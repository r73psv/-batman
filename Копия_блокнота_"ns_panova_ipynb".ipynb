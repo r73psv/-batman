{
  "nbformat": 4,
  "nbformat_minor": 0,
  "metadata": {
    "colab": {
      "provenance": [],
      "include_colab_link": true
    },
    "kernelspec": {
      "name": "python3",
      "display_name": "Python 3"
    },
    "language_info": {
      "name": "python"
    }
  },
  "cells": [
    {
      "cell_type": "markdown",
      "metadata": {
        "id": "view-in-github",
        "colab_type": "text"
      },
      "source": [
        "<a href=\"https://colab.research.google.com/github/r73psv/-batman/blob/main/%D0%9A%D0%BE%D0%BF%D0%B8%D1%8F_%D0%B1%D0%BB%D0%BE%D0%BA%D0%BD%D0%BE%D1%82%D0%B0_%22ns_panova_ipynb%22.ipynb\" target=\"_parent\"><img src=\"https://colab.research.google.com/assets/colab-badge.svg\" alt=\"Open In Colab\"/></a>"
      ]
    },
    {
      "cell_type": "code",
      "source": [
        "import torch\n",
        "import torchvision\n",
        "from torch.autograd import Variable\n",
        "import torchvision.transforms as transforms"
      ],
      "metadata": {
        "id": "Su4b5edDIxQY"
      },
      "execution_count": 19,
      "outputs": []
    },
    {
      "cell_type": "code",
      "source": [
        "#  Загрузка набора CIFAR10\n",
        "# преобразовываем изображение в тензоры, затем нормализуем\n",
        "transform = transforms.Compose(\n",
        "    [transforms.ToTensor(),\n",
        "     transforms.Normalize((0.5, 0.5, 0.5), (0.5, 0.5, 0.5))])\n",
        "\n",
        "trainset = torchvision.datasets.CIFAR10(root='./data', train=True,\n",
        "                                        download=True, transform=transform)\n",
        "trainloader = torch.utils.data.DataLoader(trainset, batch_size=64,\n",
        "                                          shuffle=True, num_workers=2)\n",
        "\n",
        "testset = torchvision.datasets.CIFAR10(root='./data', train=False,\n",
        "                                       download=True, transform=transform)\n",
        "testloader = torch.utils.data.DataLoader(testset, batch_size=4,\n",
        "                                         shuffle=False, num_workers=2)\n",
        "\n",
        "classes = ('plane', 'car', 'bird', 'cat',\n",
        "           'deer', 'dog', 'frog', 'horse', 'ship', 'truck')"
      ],
      "metadata": {
        "colab": {
          "base_uri": "https://localhost:8080/"
        },
        "id": "gSmh7lRIJU2d",
        "outputId": "ead342be-ace1-4afd-f43b-ac21ddd35a01"
      },
      "execution_count": 3,
      "outputs": [
        {
          "output_type": "stream",
          "name": "stdout",
          "text": [
            "Downloading https://www.cs.toronto.edu/~kriz/cifar-10-python.tar.gz to ./data/cifar-10-python.tar.gz\n"
          ]
        },
        {
          "output_type": "stream",
          "name": "stderr",
          "text": [
            "100%|██████████| 170498071/170498071 [00:03<00:00, 48842197.64it/s]\n"
          ]
        },
        {
          "output_type": "stream",
          "name": "stdout",
          "text": [
            "Extracting ./data/cifar-10-python.tar.gz to ./data\n",
            "Files already downloaded and verified\n"
          ]
        }
      ]
    },
    {
      "cell_type": "code",
      "source": [
        "#задаем устройство на котором будет тенироваться сеть - видеопроцессор, если нет то процессор\n",
        "device = torch.device(\"cuda:0\" if torch.cuda.is_available() else \"cpu\")\n",
        "print(device)"
      ],
      "metadata": {
        "colab": {
          "base_uri": "https://localhost:8080/"
        },
        "id": "82uBFMPSVwxH",
        "outputId": "6509404f-e9e9-48f2-95e4-41515fd977f0"
      },
      "execution_count": 4,
      "outputs": [
        {
          "output_type": "stream",
          "name": "stdout",
          "text": [
            "cpu\n"
          ]
        }
      ]
    },
    {
      "cell_type": "code",
      "source": [
        "#создаем свёрточную НС (3 свёрточных слоя и 3 линейных)\n",
        "import torch.nn as nn\n",
        "import torch.nn.functional as F\n",
        "\n",
        "class Net(nn.Module):\n",
        "    def __init__(self):\n",
        "        super().__init__()\n",
        "        self.conv1 = nn.Conv2d(3, 6, 5)\n",
        "        self.pool = nn.MaxPool2d(2, 2)\n",
        "        self.conv2 = nn.Conv2d(6, 16, 5)\n",
        "        self.fc1 = nn.Linear(16 * 5 * 5, 120)\n",
        "        self.fc2 = nn.Linear(120, 84)\n",
        "        self.fc3 = nn.Linear(84, 10)\n",
        "\n",
        "    # реализация метода forward в классе Net\n",
        "    def forward(self, x):\n",
        "        x = self.pool(F.logsigmoid(self.conv1(x)))\n",
        "        x = self.pool(F.logsigmoid(self.conv2(x)))\n",
        "        x = torch.flatten(x, 1)\n",
        "        x = F.logsigmoid(self.fc1(x))\n",
        "        x = F.logsigmoid(self.fc2(x))\n",
        "        x = self.fc3(x)\n",
        "        return x\n",
        "\n",
        "net = Net()\n",
        "net.to(device)"
      ],
      "metadata": {
        "colab": {
          "base_uri": "https://localhost:8080/"
        },
        "id": "XNcOPUyqO9vi",
        "outputId": "bd4fb71b-c7ed-4606-e0af-4f6b6aef98d4"
      },
      "execution_count": 5,
      "outputs": [
        {
          "output_type": "execute_result",
          "data": {
            "text/plain": [
              "Net(\n",
              "  (conv1): Conv2d(3, 6, kernel_size=(5, 5), stride=(1, 1))\n",
              "  (pool): MaxPool2d(kernel_size=2, stride=2, padding=0, dilation=1, ceil_mode=False)\n",
              "  (conv2): Conv2d(6, 16, kernel_size=(5, 5), stride=(1, 1))\n",
              "  (fc1): Linear(in_features=400, out_features=120, bias=True)\n",
              "  (fc2): Linear(in_features=120, out_features=84, bias=True)\n",
              "  (fc3): Linear(in_features=84, out_features=10, bias=True)\n",
              ")"
            ]
          },
          "metadata": {},
          "execution_count": 5
        }
      ]
    },
    {
      "cell_type": "code",
      "source": [
        "#criterion = nn.KLDivLoss()\n",
        "criterion = nn.CrossEntropyLoss()\n",
        "optimizer = torch.optim.RMSprop(net.parameters(), lr=0.001, momentum=0.9)\n",
        "\n",
        "for epoch in range(10):\n",
        "    running_loss = 0.0\n",
        "    running_acc = 0.0\n",
        "    for i,data in enumerate(trainloader,1):\n",
        "        img,label = data\n",
        "        img = Variable(img)\n",
        "        label = Variable(label)\n",
        "        out = net(img)\n",
        "        #print(out)\n",
        "        loss = criterion(out,label) #loss\n",
        "        running_loss += loss.item() * label.size(0)\n",
        "        #total loss\n",
        "        _,pred = torch.max(out,1)\n",
        "        num_correct = (pred == label).sum()\n",
        "        #accuracy = (pred == label).float().mean()\n",
        "        running_acc += num_correct.item()\n",
        "\n",
        "        optimizer.zero_grad()\n",
        "        loss.backward()\n",
        "        optimizer.step()\n",
        "    print('Train{} epoch, Loss: {:.6f},Acc: {:.6f}'.format(epoch+1,running_loss / (len(trainset)),running_acc / (len(trainset))))"
      ],
      "metadata": {
        "colab": {
          "base_uri": "https://localhost:8080/"
        },
        "id": "-RuBr3sUoopU",
        "outputId": "871537d5-4715-4dfb-f1f4-5d726b7af281"
      },
      "execution_count": 20,
      "outputs": [
        {
          "output_type": "stream",
          "name": "stdout",
          "text": [
            "Train1 epoch, Loss: 1.135782,Acc: 0.603280\n",
            "Train2 epoch, Loss: 0.985624,Acc: 0.648420\n",
            "Train3 epoch, Loss: 1.035781,Acc: 0.634840\n",
            "Train4 epoch, Loss: 0.946948,Acc: 0.659540\n",
            "Train5 epoch, Loss: 0.937377,Acc: 0.664500\n",
            "Train6 epoch, Loss: 0.941703,Acc: 0.663420\n",
            "Train7 epoch, Loss: 0.960599,Acc: 0.657460\n",
            "Train8 epoch, Loss: 0.948322,Acc: 0.665900\n",
            "Train9 epoch, Loss: 0.908444,Acc: 0.673660\n",
            "Train10 epoch, Loss: 0.932891,Acc: 0.668020\n"
          ]
        }
      ]
    },
    {
      "cell_type": "code",
      "source": [
        "net.eval()\n",
        "eval_loss = 0\n",
        "eval_acc = 0\n",
        "for data in testloader:\n",
        "    img,label = data\n",
        "    #img = Variable(img,volatile=True)\n",
        "    out = net(img)\n",
        "    loss = criterion(out,label)\n",
        "    eval_loss += loss.item() * label.size(0)    #total loss\n",
        "    _,pred = torch.max(out,1)\n",
        "    num_correct = (pred == label).sum()\n",
        "    eval_acc += num_correct.item()\n",
        "\n",
        "print('Test Loss:{:.6f},Acc: {:.6f}'\n",
        "      .format(eval_loss/ (len(testset)),eval_acc * 1.0/(len(testset))))"
      ],
      "metadata": {
        "colab": {
          "base_uri": "https://localhost:8080/"
        },
        "id": "QeQPhCx1p00Y",
        "outputId": "b3002dbd-1ff7-4d5c-c7f7-1806e871f003"
      },
      "execution_count": 21,
      "outputs": [
        {
          "output_type": "stream",
          "name": "stdout",
          "text": [
            "Test Loss:1.370377,Acc: 0.568400\n"
          ]
        }
      ]
    },
    {
      "cell_type": "code",
      "source": [
        "import torch.optim as optim\n",
        "from torch.utils.tensorboard import SummaryWriter\n",
        "\n",
        "#criterion = nn.KLDivLoss()\n",
        "criterion = nn.CrossEntropyLoss() # функция потерь\n",
        "optimizer = optim.RMSprop(net.parameters(), lr=0.001, momentum=0.9) # функция оптимизации\n",
        "\n",
        "for epoch in range(4):  # устанавливает количество циклов обучения\n",
        "    running_loss = 0.0\n",
        "    for i, data in enumerate(trainloader, 0):\n",
        "\n",
        "        inputs, labels = data\n",
        "        # обнуляем оптимизатор\n",
        "        optimizer.zero_grad()\n",
        "        # прямой проход\n",
        "        outputs = net(inputs)\n",
        "        out=inputs\n",
        "        # Расчитываем функцию потерь\n",
        "        loss = criterion(outputs, labels)\n",
        "        #loss = criterion(inputs,out)\n",
        "        # обратный проход\n",
        "        loss.backward()\n",
        "         # Шаг градиентного спуска (изменение параметров НС)\n",
        "        optimizer.step()\n",
        "        # печать статистики\n",
        "        running_loss += loss.item()\n",
        "        if i % 2000 == 1999:\n",
        "            print(f'[{epoch + 1}, {i + 1:5d}] loss: {running_loss / 2000:.3f}')\n",
        "            running_loss = 0.0\n",
        "    print('Finished Training')"
      ],
      "metadata": {
        "id": "HDfP3LKSSXp-",
        "outputId": "10ef9dfe-c2f4-45e2-c3c0-1f71881316f6",
        "colab": {
          "base_uri": "https://localhost:8080/"
        }
      },
      "execution_count": 12,
      "outputs": [
        {
          "output_type": "stream",
          "name": "stderr",
          "text": [
            "/usr/lib/python3.10/multiprocessing/popen_fork.py:66: RuntimeWarning: os.fork() was called. os.fork() is incompatible with multithreaded code, and JAX is multithreaded, so this will likely lead to a deadlock.\n",
            "  self.pid = os.fork()\n",
            "/usr/lib/python3.10/multiprocessing/popen_fork.py:66: RuntimeWarning: os.fork() was called. os.fork() is incompatible with multithreaded code, and JAX is multithreaded, so this will likely lead to a deadlock.\n",
            "  self.pid = os.fork()\n"
          ]
        },
        {
          "output_type": "stream",
          "name": "stdout",
          "text": [
            "Finished Training\n",
            "Finished Training\n",
            "Finished Training\n",
            "Finished Training\n"
          ]
        }
      ]
    },
    {
      "cell_type": "code",
      "source": [
        "# сохраняем модель\n",
        "PATH = './cifar_net.pth'\n",
        "torch.save(net.state_dict(), PATH)"
      ],
      "metadata": {
        "id": "tsRoVS68I04u"
      },
      "execution_count": 22,
      "outputs": []
    },
    {
      "cell_type": "code",
      "source": [
        "\n",
        "dataiter = iter(testloader)\n",
        "images, labels = next(dataiter)"
      ],
      "metadata": {
        "id": "jxYonUpZKjfz"
      },
      "execution_count": 23,
      "outputs": []
    },
    {
      "cell_type": "code",
      "source": [
        "#загрузка сохраненной модели\n",
        "net = Net()\n",
        "net.load_state_dict(torch.load(PATH))"
      ],
      "metadata": {
        "id": "X_lsuErlK8NJ",
        "outputId": "89155266-8139-4e1f-8fa6-88fce8415795",
        "colab": {
          "base_uri": "https://localhost:8080/"
        }
      },
      "execution_count": 24,
      "outputs": [
        {
          "output_type": "execute_result",
          "data": {
            "text/plain": [
              "<All keys matched successfully>"
            ]
          },
          "metadata": {},
          "execution_count": 24
        }
      ]
    },
    {
      "cell_type": "code",
      "source": [
        "# Выходные данные представляют собой вероятности для 10 классов. Чем выше вероятность, тем больше сеть считает,\n",
        "# что изображение относится к определенному классу.\n",
        "outputs = net(images)\n",
        "_, predicted = torch.max(outputs, 1)\n",
        "\n",
        "print('Predicted: ', ' '.join(f'{classes[predicted[j]]:5s}'\n",
        "                              for j in range(4)))"
      ],
      "metadata": {
        "id": "q8TS438xLG6Q",
        "outputId": "1e32d596-ed40-46a2-e17a-be820860028f",
        "colab": {
          "base_uri": "https://localhost:8080/"
        }
      },
      "execution_count": 25,
      "outputs": [
        {
          "output_type": "stream",
          "name": "stdout",
          "text": [
            "Predicted:  ship  ship  car   plane\n"
          ]
        }
      ]
    },
    {
      "cell_type": "code",
      "source": [
        "correct = 0\n",
        "total = 0\n",
        "\n",
        "with torch.no_grad():\n",
        "    for data in testloader:\n",
        "        images, labels = data\n",
        "        # вычисление выходных данных, прогоняя изображения по сети\n",
        "        outputs = net(images)\n",
        "        # класс с самой высокой вероятностью  выбираем в качестве прогноза\n",
        "        _, predicted = torch.max(outputs.data, 1)\n",
        "        total += labels.size(0)\n",
        "        correct += (predicted == labels).sum().item()\n",
        "\n",
        "print(f'Accuracy of the network on the 10000 test images: {100 * correct // total} %')"
      ],
      "metadata": {
        "id": "7RX_RQvgLaqp",
        "outputId": "e175a4e8-3e60-487c-e348-be09c94d2ee2",
        "colab": {
          "base_uri": "https://localhost:8080/"
        }
      },
      "execution_count": 26,
      "outputs": [
        {
          "output_type": "stream",
          "name": "stdout",
          "text": [
            "Accuracy of the network on the 10000 test images: 56 %\n"
          ]
        }
      ]
    },
    {
      "cell_type": "code",
      "source": [
        "# подсчет прогнозов для каждого класса\n",
        "correct_pred = {classname: 0 for classname in classes}\n",
        "total_pred = {classname: 0 for classname in classes}\n",
        "\n",
        "with torch.no_grad():\n",
        "    for data in testloader:\n",
        "        images, labels = data\n",
        "        outputs = net(images)\n",
        "        _, predictions = torch.max(outputs, 1)\n",
        "        # собираем прогнозы длакаждого класа\n",
        "        for label, prediction in zip(labels, predictions):\n",
        "            if label == prediction:\n",
        "                correct_pred[classes[label]] += 1\n",
        "            total_pred[classes[label]] += 1\n",
        "\n",
        "\n",
        "# печать accuracy для каждого класса\n",
        "for classname, correct_count in correct_pred.items():\n",
        "    accuracy = 100 * float(correct_count) / total_pred[classname]\n",
        "    print(f'Accuracy for class: {classname:5s} is {accuracy:.1f} %')"
      ],
      "metadata": {
        "id": "VZTPsoLoLgDI",
        "outputId": "55945596-88c2-4f60-89f7-87c152e8be37",
        "colab": {
          "base_uri": "https://localhost:8080/"
        }
      },
      "execution_count": 27,
      "outputs": [
        {
          "output_type": "stream",
          "name": "stdout",
          "text": [
            "Accuracy for class: plane is 67.1 %\n",
            "Accuracy for class: car   is 62.8 %\n",
            "Accuracy for class: bird  is 39.4 %\n",
            "Accuracy for class: cat   is 30.2 %\n",
            "Accuracy for class: deer  is 52.9 %\n",
            "Accuracy for class: dog   is 43.2 %\n",
            "Accuracy for class: frog  is 72.6 %\n",
            "Accuracy for class: horse is 68.6 %\n",
            "Accuracy for class: ship  is 68.9 %\n",
            "Accuracy for class: truck is 62.7 %\n"
          ]
        }
      ]
    }
  ]
}